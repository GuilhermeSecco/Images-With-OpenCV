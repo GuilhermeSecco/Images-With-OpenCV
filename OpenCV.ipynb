{
 "cells": [
  {
   "cell_type": "code",
   "execution_count": 1,
   "id": "d20c9740-6c02-49a5-bb52-bc4c720e11c3",
   "metadata": {},
   "outputs": [],
   "source": [
    "#Instalando OpenCV"
   ]
  },
  {
   "cell_type": "code",
   "execution_count": 2,
   "id": "bcf8aef0-c502-4e93-8ee9-b6f3ea869456",
   "metadata": {
    "scrolled": true
   },
   "outputs": [
    {
     "name": "stdout",
     "output_type": "stream",
     "text": [
      "Requirement already satisfied: opencv-python in c:\\users\\guilh\\appdata\\local\\programs\\python\\python312\\lib\\site-packages (4.12.0.88)\n",
      "Requirement already satisfied: numpy<2.3.0,>=2 in c:\\users\\guilh\\appdata\\local\\programs\\python\\python312\\lib\\site-packages (from opencv-python) (2.1.3)\n",
      "Note: you may need to restart the kernel to use updated packages.\n"
     ]
    },
    {
     "name": "stderr",
     "output_type": "stream",
     "text": [
      "\n",
      "[notice] A new release of pip is available: 25.1.1 -> 25.2\n",
      "[notice] To update, run: python.exe -m pip install --upgrade pip\n"
     ]
    }
   ],
   "source": [
    "pip install opencv-python"
   ]
  },
  {
   "cell_type": "code",
   "execution_count": 3,
   "id": "e24db2d4-8951-496d-9572-9b3528f7f5ab",
   "metadata": {},
   "outputs": [],
   "source": [
    "#Importando Bibliotecas"
   ]
  },
  {
   "cell_type": "code",
   "execution_count": 4,
   "id": "7674c59c-a921-4b65-8ec0-d515ccb71073",
   "metadata": {},
   "outputs": [],
   "source": [
    "import numpy as np\n",
    "import pandas as np\n",
    "import cv2"
   ]
  },
  {
   "cell_type": "code",
   "execution_count": 5,
   "id": "57e025ef-10c5-41e5-ba6f-43fe5798a468",
   "metadata": {},
   "outputs": [],
   "source": [
    "#Importando Imagem"
   ]
  },
  {
   "cell_type": "code",
   "execution_count": 6,
   "id": "5d02096e-cdf1-490f-948e-89e43ab5c03e",
   "metadata": {},
   "outputs": [],
   "source": [
    "img = cv2.imread(\"Kitchen.png\", cv2.IMREAD_GRAYSCALE)\n",
    "img2 = img.copy"
   ]
  },
  {
   "cell_type": "code",
   "execution_count": 7,
   "id": "4b670097-886b-4106-8bd1-f62a7824e81c",
   "metadata": {},
   "outputs": [],
   "source": [
    "#Imagem Importada"
   ]
  },
  {
   "cell_type": "code",
   "execution_count": 8,
   "id": "8d89cb02-7ef4-4ca3-a06a-2fc1c952e518",
   "metadata": {},
   "outputs": [],
   "source": [
    "cv2.imshow(\"Kitchen\", img)\n",
    "cv2.waitKey(0)\n",
    "cv2.destroyAllWindows()"
   ]
  },
  {
   "cell_type": "code",
   "execution_count": 9,
   "id": "69bd416d-fade-4007-b7f0-be5ca361bf26",
   "metadata": {},
   "outputs": [],
   "source": [
    "#Deixando a Imagem em Preto e Branco"
   ]
  },
  {
   "cell_type": "code",
   "execution_count": 10,
   "id": "2346dde0-5040-44a4-a343-0962593fb3b2",
   "metadata": {},
   "outputs": [],
   "source": [
    "for i in range(img.shape[0]):\n",
    "    for j in range(img.shape[1]):\n",
    "        if img[i,j] < 155:\n",
    "            img[i,j] = 0\n",
    "        else:\n",
    "            img[i,j] = 255"
   ]
  },
  {
   "cell_type": "code",
   "execution_count": 11,
   "id": "360a84d2-69a1-448e-b12e-bbfa2835c7cb",
   "metadata": {},
   "outputs": [],
   "source": [
    "#Imagem Em Preto e Branco"
   ]
  },
  {
   "cell_type": "code",
   "execution_count": 12,
   "id": "f034e3c5-ae59-415c-a9f6-b0f125d41026",
   "metadata": {},
   "outputs": [],
   "source": [
    "cv2.imshow(\"Kitchen\", img)\n",
    "cv2.waitKey(0)\n",
    "cv2.destroyAllWindows()"
   ]
  },
  {
   "cell_type": "code",
   "execution_count": 13,
   "id": "2c58a5af-91d9-4a9d-b1b3-cf64a8a31cd3",
   "metadata": {},
   "outputs": [],
   "source": [
    "#Importando Imagem Colorida"
   ]
  },
  {
   "cell_type": "code",
   "execution_count": 14,
   "id": "5881087f-de10-4fb2-aa28-a0eaf19a6787",
   "metadata": {},
   "outputs": [],
   "source": [
    "road = cv2.imread(\"Road.png\", cv2.IMREAD_COLOR)"
   ]
  },
  {
   "cell_type": "code",
   "execution_count": 15,
   "id": "1c852a26-bf99-4209-b4fb-b5275a9cda56",
   "metadata": {},
   "outputs": [],
   "source": [
    "#Convertendo para Escala de Cinza"
   ]
  },
  {
   "cell_type": "code",
   "execution_count": 16,
   "id": "4a87b86b-d1ba-4e4c-b869-152cee635a44",
   "metadata": {},
   "outputs": [],
   "source": [
    "gray_road = cv2.cvtColor(road, cv2.COLOR_BGR2GRAY)"
   ]
  },
  {
   "cell_type": "code",
   "execution_count": 17,
   "id": "1d88809b-957b-4e3d-baec-ee75d622b345",
   "metadata": {},
   "outputs": [],
   "source": [
    "#Visualizando o Formato do Array"
   ]
  },
  {
   "cell_type": "code",
   "execution_count": 18,
   "id": "ad33e865-aa03-413e-9546-20b9cf1edf33",
   "metadata": {},
   "outputs": [
    {
     "name": "stdout",
     "output_type": "stream",
     "text": [
      "(485, 638, 3)\n"
     ]
    }
   ],
   "source": [
    "print(road.shape)"
   ]
  },
  {
   "cell_type": "code",
   "execution_count": 19,
   "id": "ed631bfe-5291-44b3-a16b-f181fba3e3d4",
   "metadata": {},
   "outputs": [],
   "source": [
    "#Imagem Importada"
   ]
  },
  {
   "cell_type": "code",
   "execution_count": 20,
   "id": "14057a48-d1e9-44c0-977f-8fa0c8cda410",
   "metadata": {},
   "outputs": [],
   "source": [
    "cv2.imshow(\"Road\", road)\n",
    "cv2.waitKey(0)\n",
    "cv2.destroyAllWindows()"
   ]
  },
  {
   "cell_type": "code",
   "execution_count": 21,
   "id": "b0298ee7-ec8e-43bb-9923-e4972801948c",
   "metadata": {},
   "outputs": [],
   "source": [
    "#Invertendo a Coloração da Imagem"
   ]
  },
  {
   "cell_type": "code",
   "execution_count": 22,
   "id": "cc5291c5-57a2-4ee4-ae3a-a045d9c87d39",
   "metadata": {},
   "outputs": [],
   "source": [
    "for i in range(road.shape[0]):\n",
    "    for j in range(road.shape[1]):\n",
    "       road[i, j] = 255-road[i, j]"
   ]
  },
  {
   "cell_type": "code",
   "execution_count": 23,
   "id": "b168388c-9786-4e2a-bd3d-0fe409c3a363",
   "metadata": {},
   "outputs": [],
   "source": [
    "#Imagem Invertida"
   ]
  },
  {
   "cell_type": "code",
   "execution_count": 24,
   "id": "d5edf631-5126-4569-a7f4-2c570885ad3a",
   "metadata": {},
   "outputs": [],
   "source": [
    "cv2.imshow(\"Road\", road)\n",
    "cv2.waitKey(0)\n",
    "cv2.destroyAllWindows()"
   ]
  },
  {
   "cell_type": "code",
   "execution_count": 25,
   "id": "b58ff41c-0536-44e6-8741-8d7034c9d3f2",
   "metadata": {},
   "outputs": [],
   "source": [
    "#Criando PNG da Imagem em Escala de Cinza"
   ]
  },
  {
   "cell_type": "code",
   "execution_count": 26,
   "id": "aae05f2f-c827-4058-bd8f-aa12f8aede44",
   "metadata": {},
   "outputs": [
    {
     "data": {
      "text/plain": [
       "True"
      ]
     },
     "execution_count": 26,
     "metadata": {},
     "output_type": "execute_result"
    }
   ],
   "source": [
    "cv2.imwrite(\"Grey_road.png\", gray_road)"
   ]
  }
 ],
 "metadata": {
  "kernelspec": {
   "display_name": "Python 3 (ipykernel)",
   "language": "python",
   "name": "python3"
  },
  "language_info": {
   "codemirror_mode": {
    "name": "ipython",
    "version": 3
   },
   "file_extension": ".py",
   "mimetype": "text/x-python",
   "name": "python",
   "nbconvert_exporter": "python",
   "pygments_lexer": "ipython3",
   "version": "3.12.4"
  }
 },
 "nbformat": 4,
 "nbformat_minor": 5
}
